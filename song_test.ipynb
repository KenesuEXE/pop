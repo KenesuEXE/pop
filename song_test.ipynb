{
 "cells": [
  {
   "cell_type": "code",
   "execution_count": 13,
   "metadata": {},
   "outputs": [],
   "source": [
    "import pandas as pd\n",
    "\n",
    "df = pd.read_csv(\"data/top_10000_1960-now.csv\")"
   ]
  },
  {
   "cell_type": "code",
   "execution_count": 14,
   "metadata": {},
   "outputs": [
    {
     "name": "stdout",
     "output_type": "stream",
     "text": [
      "<class 'pandas.core.frame.DataFrame'>\n",
      "RangeIndex: 9999 entries, 0 to 9998\n",
      "Data columns (total 35 columns):\n",
      " #   Column                Non-Null Count  Dtype  \n",
      "---  ------                --------------  -----  \n",
      " 0   Track URI             9999 non-null   object \n",
      " 1   Track Name            9998 non-null   object \n",
      " 2   Artist URI(s)         9997 non-null   object \n",
      " 3   Artist Name(s)        9998 non-null   object \n",
      " 4   Album URI             9997 non-null   object \n",
      " 5   Album Name            9998 non-null   object \n",
      " 6   Album Artist URI(s)   9997 non-null   object \n",
      " 7   Album Artist Name(s)  9997 non-null   object \n",
      " 8   Album Release Date    9997 non-null   object \n",
      " 9   Album Image URL       9995 non-null   object \n",
      " 10  Disc Number           9999 non-null   int64  \n",
      " 11  Track Number          9999 non-null   int64  \n",
      " 12  Track Duration (ms)   9999 non-null   int64  \n",
      " 13  Track Preview URL     7102 non-null   object \n",
      " 14  Explicit              9999 non-null   bool   \n",
      " 15  Popularity            9999 non-null   int64  \n",
      " 16  ISRC                  9996 non-null   object \n",
      " 17  Added By              9999 non-null   object \n",
      " 18  Added At              9999 non-null   object \n",
      " 19  Artist Genres         9449 non-null   object \n",
      " 20  Danceability          9997 non-null   float64\n",
      " 21  Energy                9997 non-null   float64\n",
      " 22  Key                   9997 non-null   float64\n",
      " 23  Loudness              9997 non-null   float64\n",
      " 24  Mode                  9997 non-null   float64\n",
      " 25  Speechiness           9997 non-null   float64\n",
      " 26  Acousticness          9997 non-null   float64\n",
      " 27  Instrumentalness      9997 non-null   float64\n",
      " 28  Liveness              9997 non-null   float64\n",
      " 29  Valence               9997 non-null   float64\n",
      " 30  Tempo                 9997 non-null   float64\n",
      " 31  Time Signature        9997 non-null   float64\n",
      " 32  Album Genres          0 non-null      float64\n",
      " 33  Label                 9993 non-null   object \n",
      " 34  Copyrights            9975 non-null   object \n",
      "dtypes: bool(1), float64(13), int64(4), object(17)\n",
      "memory usage: 2.6+ MB\n"
     ]
    }
   ],
   "source": [
    "df.info()"
   ]
  },
  {
   "cell_type": "code",
   "execution_count": 16,
   "metadata": {},
   "outputs": [
    {
     "data": {
      "text/plain": [
       "Index(['Track URI', 'Track Name', 'Artist URI(s)', 'Artist Name(s)',\n",
       "       'Album URI', 'Album Name', 'Album Artist URI(s)',\n",
       "       'Album Artist Name(s)', 'Album Release Date', 'Album Image URL',\n",
       "       'Disc Number', 'Track Number', 'Track Duration (ms)',\n",
       "       'Track Preview URL', 'Explicit', 'Popularity', 'ISRC', 'Added By',\n",
       "       'Added At', 'Artist Genres', 'Danceability', 'Energy', 'Key',\n",
       "       'Loudness', 'Mode', 'Speechiness', 'Acousticness', 'Instrumentalness',\n",
       "       'Liveness', 'Valence', 'Tempo', 'Time Signature', 'Album Genres',\n",
       "       'Label', 'Copyrights'],\n",
       "      dtype='object')"
      ]
     },
     "execution_count": 16,
     "metadata": {},
     "output_type": "execute_result"
    }
   ],
   "source": [
    "df.columns"
   ]
  },
  {
   "cell_type": "code",
   "execution_count": 27,
   "metadata": {},
   "outputs": [
    {
     "data": {
      "text/plain": [
       "'https://i.scdn.co/image/ab67616d0000b27355346bc1f268730f607f9544'"
      ]
     },
     "execution_count": 27,
     "metadata": {},
     "output_type": "execute_result"
    }
   ],
   "source": [
    "df.head()\n",
    "song = df[(df['Track Name'] == 'Justified & Ancient - Stand by the Jams') & (df['Artist Name(s)'] == 'The KLF')]\n",
    "#image_url = song['Album Image URL']\n",
    "song['Album Image URL'].iloc[0]"
   ]
  }
 ],
 "metadata": {
  "kernelspec": {
   "display_name": "Python 3",
   "language": "python",
   "name": "python3"
  },
  "language_info": {
   "codemirror_mode": {
    "name": "ipython",
    "version": 3
   },
   "file_extension": ".py",
   "mimetype": "text/x-python",
   "name": "python",
   "nbconvert_exporter": "python",
   "pygments_lexer": "ipython3",
   "version": "3.10.1"
  },
  "orig_nbformat": 4
 },
 "nbformat": 4,
 "nbformat_minor": 2
}
